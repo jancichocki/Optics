{
 "cells": [
  {
   "cell_type": "code",
   "execution_count": 3,
   "id": "ea0c2e5e-0154-4f4c-89ab-2203cc8d6186",
   "metadata": {
    "tags": []
   },
   "outputs": [
    {
     "name": "stdout",
     "output_type": "stream",
     "text": [
      "File saved with the highest accuracy for each symbol.\n"
     ]
    },
    {
     "name": "stderr",
     "output_type": "stream",
     "text": [
      "C:\\Users\\jan\\AppData\\Local\\Temp\\ipykernel_24440\\409530062.py:7: FutureWarning: The provided callable <built-in function max> is currently using SeriesGroupBy.max. In a future version of pandas, the provided callable will be used directly. To keep current behavior pass the string \"max\" instead.\n",
      "  idx = df_original.groupby('Symbol')['Accuracy'].transform(max) == df_original['Accuracy']\n"
     ]
    }
   ],
   "source": [
    "import pandas as pd\n",
    "\n",
    "# Load the dataset from the CSV file\n",
    "df_original = pd.read_csv('strategy_results_adaboost_across_symbols.csv')\n",
    "\n",
    "# Group by 'Symbol' and get the row with the max 'Accuracy' for each group\n",
    "idx = df_original.groupby('Symbol')['Accuracy'].transform(max) == df_original['Accuracy']\n",
    "\n",
    "# This might result in duplicates if there are ties in max accuracy, so we drop duplicates\n",
    "highest_accuracy_per_symbol = df_original[idx].drop_duplicates(subset=['Symbol', 'Accuracy'])\n",
    "\n",
    "# Save to a new CSV file\n",
    "highest_accuracy_per_symbol.to_csv('highest_accuracy_per_symbol.csv', index=False)\n",
    "\n",
    "print(\"File saved with the highest accuracy for each symbol.\")"
   ]
  },
  {
   "cell_type": "code",
   "execution_count": null,
   "id": "72f55621-aa1f-42c7-a969-c18990bd3201",
   "metadata": {},
   "outputs": [],
   "source": []
  },
  {
   "cell_type": "code",
   "execution_count": null,
   "id": "5a712932-7454-45b3-8e3c-584414bcec63",
   "metadata": {},
   "outputs": [],
   "source": []
  }
 ],
 "metadata": {
  "kernelspec": {
   "display_name": "Python 3 (ipykernel)",
   "language": "python",
   "name": "python3"
  },
  "language_info": {
   "codemirror_mode": {
    "name": "ipython",
    "version": 3
   },
   "file_extension": ".py",
   "mimetype": "text/x-python",
   "name": "python",
   "nbconvert_exporter": "python",
   "pygments_lexer": "ipython3",
   "version": "3.11.5"
  }
 },
 "nbformat": 4,
 "nbformat_minor": 5
}
