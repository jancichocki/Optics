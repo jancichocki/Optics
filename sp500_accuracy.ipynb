{
 "cells": [
  {
   "cell_type": "code",
   "execution_count": 4,
   "id": "5369695e-c80f-4278-be6a-c50af94e5d78",
   "metadata": {
    "tags": []
   },
   "outputs": [
    {
     "name": "stderr",
     "output_type": "stream",
     "text": [
      "[*********************100%%**********************]  1 of 1 completed"
     ]
    },
    {
     "name": "stdout",
     "output_type": "stream",
     "text": [
      "Analysis complete and saved to 'sp500_signal_accuracy.csv'.\n"
     ]
    },
    {
     "name": "stderr",
     "output_type": "stream",
     "text": [
      "\n"
     ]
    }
   ],
   "source": [
    "import pandas as pd\n",
    "import numpy as np\n",
    "import yfinance as yf\n",
    "from scipy.stats import linregress\n",
    "import hvplot.pandas  # Make sure hvplot is installed\n",
    "\n",
    "# Fetch S&P 500 data\n",
    "sp500 = yf.download('^GSPC', period=\"60y\", interval=\"1mo\")\n",
    "\n",
    "# Ensure there's no missing data in critical columns\n",
    "sp500.dropna(subset=['Adj Close'], inplace=True)\n",
    "\n",
    "# Calculate the RSI\n",
    "def calculate_rsi(data, window=14):\n",
    "    delta = data.diff()\n",
    "    gain = np.where(delta > 0, delta, 0)\n",
    "    loss = np.where(delta < 0, -delta, 0)\n",
    "    avg_gain = pd.Series(gain).rolling(window=window, min_periods=1).mean()\n",
    "    avg_loss = pd.Series(loss).rolling(window=window, min_periods=1).mean()\n",
    "    rs = avg_gain / avg_loss\n",
    "    rsi = 100 - (100 / (1 + rs))\n",
    "    return rsi\n",
    "\n",
    "sp500['RSI'] = calculate_rsi(sp500['Adj Close'])\n",
    "\n",
    "# Calculate RSI Slope; ensuring we handle any NaN values\n",
    "sp500['RSI_Slope'] = sp500['RSI'].rolling(window=5).apply(lambda x: linregress(range(len(x)), x).slope if not x.isnull().any() else np.nan, raw=True)\n",
    "\n",
    "# Generate Buy/Sell Signals; ensuring we exclude any rows where RSI_Slope is NaN for signal generation\n",
    "sp500['Signal'] = np.where(sp500['RSI_Slope'] > 0, 'Buy', np.where(sp500['RSI_Slope'] < 0, 'Sell', 'Hold'))\n",
    "\n",
    "# Calculate future returns (1 month ahead) and determine signal correctness\n",
    "sp500['Future Returns'] = sp500['Adj Close'].pct_change().shift(-1)\n",
    "sp500['Correct'] = np.where((sp500['Signal'] == 'Buy') & (sp500['Future Returns'] > 0) | (sp500['Signal'] == 'Sell') & (sp500['Future Returns'] < 0), 1, 0)\n",
    "\n",
    "# Remove rows with any NaN values that could disrupt plotting or analysis\n",
    "sp500_cleaned = sp500.dropna()\n",
    "\n",
    "# Plotting\n",
    "plot = sp500_cleaned['RSI'].hvplot(title='S&P 500 Monthly RSI & Signals', ylabel='RSI', width=800, height=400) * \\\n",
    "       sp500_cleaned[sp500_cleaned['Signal'] == 'Buy']['RSI'].hvplot.scatter(color='green', legend='top', marker='^', size=100) * \\\n",
    "       sp500_cleaned[sp500_cleaned['Signal'] == 'Sell']['RSI'].hvplot.scatter(color='red', legend='top', marker='v', size=100)\n",
    "\n",
    "# Ensure the plot displays in your environment, might require `%matplotlib inline` for Jupyter Notebooks\n",
    "\n",
    "# Save the cleaned data with signals and correctness indicator to CSV\n",
    "sp500_cleaned[['Adj Close', 'RSI', 'RSI_Slope', 'Signal', 'Future Returns', 'Correct']].to_csv('sp500_signal_accuracy.csv', index=True)\n",
    "\n",
    "print(\"Analysis complete and saved to 'sp500_signal_accuracy.csv'.\")\n"
   ]
  },
  {
   "cell_type": "code",
   "execution_count": null,
   "id": "054bf1ea-0dd4-4f6c-923e-d5c2cbc640c2",
   "metadata": {},
   "outputs": [],
   "source": []
  }
 ],
 "metadata": {
  "kernelspec": {
   "display_name": "Python 3 (ipykernel)",
   "language": "python",
   "name": "python3"
  },
  "language_info": {
   "codemirror_mode": {
    "name": "ipython",
    "version": 3
   },
   "file_extension": ".py",
   "mimetype": "text/x-python",
   "name": "python",
   "nbconvert_exporter": "python",
   "pygments_lexer": "ipython3",
   "version": "3.11.5"
  }
 },
 "nbformat": 4,
 "nbformat_minor": 5
}
