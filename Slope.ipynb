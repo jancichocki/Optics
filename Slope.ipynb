{
 "cells": [
  {
   "cell_type": "code",
   "execution_count": 2,
   "id": "a426353f-826c-4ec7-9bf4-b21aeb491ef2",
   "metadata": {
    "tags": []
   },
   "outputs": [
    {
     "name": "stderr",
     "output_type": "stream",
     "text": [
      "[*********************100%%**********************]  1 of 1 completed\n"
     ]
    },
    {
     "name": "stdout",
     "output_type": "stream",
     "text": [
      "RSI Slope calculation for the last 20 years saved to sp500_rsi_slope_20_years.csv\n"
     ]
    }
   ],
   "source": [
    "import pandas as pd\n",
    "import numpy as np\n",
    "import yfinance as yf\n",
    "from scipy.stats import linregress\n",
    "\n",
    "# Fetch S&P 500 data for the last 20 years\n",
    "end_date = pd.Timestamp.now()\n",
    "start_date = end_date - pd.DateOffset(years=20)\n",
    "sp500 = yf.download('^GSPC', start=start_date.strftime('%Y-%m-%d'), end=end_date.strftime('%Y-%m-%d'))\n",
    "\n",
    "# Calculate daily returns\n",
    "sp500['returns'] = sp500['Adj Close'].pct_change()\n",
    "\n",
    "# Calculate gains and losses\n",
    "sp500['gain'] = np.where(sp500['returns'] > 0, sp500['returns'], 0)\n",
    "sp500['loss'] = np.where(sp500['returns'] < 0, abs(sp500['returns']), 0)\n",
    "\n",
    "# Calculate average gain and loss\n",
    "window = 14\n",
    "sp500['avg_gain'] = sp500['gain'].rolling(window=window, min_periods=1).mean()\n",
    "sp500['avg_loss'] = sp500['loss'].rolling(window=window, min_periods=1).mean()\n",
    "\n",
    "# Calculate RS and RSI\n",
    "sp500['RS'] = sp500['avg_gain'] / sp500['avg_loss']\n",
    "sp500['RSI'] = 100 - (100 / (1 + sp500['RS']))\n",
    "\n",
    "# Initialize a DataFrame to store RSI Slope values\n",
    "rsi_slope_df = pd.DataFrame(index=sp500.index)\n",
    "rsi_slope_df['RSI_Slope'] = np.nan  # Initialize the column with NaN\n",
    "\n",
    "N = 5  # Calculate the slope of the RSI over the last N days\n",
    "for i in range(len(sp500) - N + 1):\n",
    "    sp500_last_n = sp500['RSI'].iloc[i:i+N]\n",
    "    slope, intercept, r_value, p_value, std_err = linregress(range(N), sp500_last_n)\n",
    "    rsi_slope_df.iloc[i+N-1, rsi_slope_df.columns.get_loc('RSI_Slope')] = slope\n",
    "\n",
    "# Save the RSI Slope values to a CSV file\n",
    "rsi_slope_df.to_csv('sp500_rsi_slope_20_years.csv')\n",
    "\n",
    "print(\"RSI Slope calculation for the last 20 years saved to sp500_rsi_slope_20_years.csv\")"
   ]
  },
  {
   "cell_type": "code",
   "execution_count": null,
   "id": "e678f2b6-4139-447b-b951-d3daa226a380",
   "metadata": {},
   "outputs": [],
   "source": []
  }
 ],
 "metadata": {
  "kernelspec": {
   "display_name": "Python 3 (ipykernel)",
   "language": "python",
   "name": "python3"
  },
  "language_info": {
   "codemirror_mode": {
    "name": "ipython",
    "version": 3
   },
   "file_extension": ".py",
   "mimetype": "text/x-python",
   "name": "python",
   "nbconvert_exporter": "python",
   "pygments_lexer": "ipython3",
   "version": "3.11.5"
  }
 },
 "nbformat": 4,
 "nbformat_minor": 5
}
