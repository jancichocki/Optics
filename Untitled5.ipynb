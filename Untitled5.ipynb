{
 "cells": [
  {
   "cell_type": "code",
   "execution_count": 9,
   "id": "7289a9b4-1d83-410d-9ec7-0cccf5d5ca74",
   "metadata": {
    "tags": []
   },
   "outputs": [
    {
     "name": "stderr",
     "output_type": "stream",
     "text": [
      "[*********************100%%**********************]  1 of 1 completed\n",
      "[*********************100%%**********************]  1 of 1 completed"
     ]
    },
    {
     "name": "stdout",
     "output_type": "stream",
     "text": [
      "CSV file has been saved as corrected_sp500_weekly_rsi_slope.csv.\n"
     ]
    },
    {
     "name": "stderr",
     "output_type": "stream",
     "text": [
      "\n"
     ]
    }
   ],
   "source": [
    "import pandas as pd\n",
    "import numpy as np\n",
    "import yfinance as yf\n",
    "from scipy.stats import linregress\n",
    "\n",
    "# Function to calculate RSI\n",
    "def calculate_rsi(data, window=14):\n",
    "    delta = data.diff()\n",
    "    gain = delta.where(delta > 0, 0).rolling(window=window).mean()\n",
    "    loss = -delta.where(delta < 0, 0).rolling(window=window).mean()\n",
    "    rs = gain / loss\n",
    "    rsi = 100 - (100 / (1 + rs))\n",
    "    return rsi\n",
    "\n",
    "# Fetch S&P 500 data for 20 years with monthly and weekly intervals\n",
    "sp500_monthly = yf.download('^GSPC', period=\"20y\", interval=\"1mo\")\n",
    "sp500_weekly = yf.download('^GSPC', period=\"20y\", interval=\"1wk\")\n",
    "\n",
    "# Calculate RSI and its slope for the monthly data\n",
    "sp500_monthly['RSI'] = calculate_rsi(sp500_monthly['Adj Close'], window=14)\n",
    "sp500_monthly['RSI_Slope'] = sp500_monthly['RSI'].rolling(window=5).apply(\n",
    "    lambda x: linregress(range(len(x)), x).slope if not x.isnull().any() else np.nan)\n",
    "\n",
    "# Prepare the weekly data for merging\n",
    "sp500_weekly.reset_index(inplace=True)\n",
    "sp500_weekly['Month'] = sp500_weekly['Date'].dt.to_period('M')\n",
    "sp500_monthly['Month'] = sp500_monthly.index.to_period('M')\n",
    "\n",
    "# Merge the monthly RSI slope into the weekly data\n",
    "monthly_slope = sp500_monthly[['Month', 'RSI_Slope']].dropna()\n",
    "sp500_weekly = pd.merge(sp500_weekly, monthly_slope, on='Month', how='left')\n",
    "\n",
    "# Forward fill the monthly RSI slope values into each week\n",
    "sp500_weekly['RSI_Slope'].ffill(inplace=True)\n",
    "\n",
    "# Ensure all rows with missing RSI Slope values are dropped\n",
    "sp500_weekly.dropna(subset=['RSI_Slope'], inplace=True)\n",
    "\n",
    "# Save the corrected weekly dataset to a CSV file\n",
    "sp500_weekly.to_csv(\"corrected_sp500_weekly_rsi_slope.csv\", index=False)\n",
    "\n",
    "print(\"CSV file has been saved as corrected_sp500_weekly_rsi_slope.csv.\")\n"
   ]
  },
  {
   "cell_type": "code",
   "execution_count": null,
   "id": "3d3e683b-d09a-42ec-8d9c-f8ccba3a6972",
   "metadata": {},
   "outputs": [],
   "source": []
  }
 ],
 "metadata": {
  "kernelspec": {
   "display_name": "Python 3 (ipykernel)",
   "language": "python",
   "name": "python3"
  },
  "language_info": {
   "codemirror_mode": {
    "name": "ipython",
    "version": 3
   },
   "file_extension": ".py",
   "mimetype": "text/x-python",
   "name": "python",
   "nbconvert_exporter": "python",
   "pygments_lexer": "ipython3",
   "version": "3.11.5"
  }
 },
 "nbformat": 4,
 "nbformat_minor": 5
}
