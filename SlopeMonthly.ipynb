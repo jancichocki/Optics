{
 "cells": [
  {
   "cell_type": "code",
   "execution_count": 1,
   "id": "0609c7c8-57ee-4b93-b8f6-76593e679363",
   "metadata": {
    "tags": []
   },
   "outputs": [
    {
     "name": "stderr",
     "output_type": "stream",
     "text": [
      "[*********************100%%**********************]  1 of 1 completed"
     ]
    },
    {
     "name": "stdout",
     "output_type": "stream",
     "text": [
      "Monthly RSI slope for the S&P 500 over the last 20 years saved to sp500_monthly_rsi_slope.csv.\n"
     ]
    },
    {
     "name": "stderr",
     "output_type": "stream",
     "text": [
      "\n"
     ]
    }
   ],
   "source": [
    "import pandas as pd\n",
    "import numpy as np\n",
    "import yfinance as yf\n",
    "from scipy.stats import linregress\n",
    "\n",
    "# Function to calculate RSI\n",
    "def calculate_rsi(data, window=14):\n",
    "    delta = data['Adj Close'].diff()\n",
    "    gain = (delta.where(delta > 0, 0)).rolling(window=window).mean()\n",
    "    loss = (-delta.where(delta < 0, 0)).rolling(window=window).mean()\n",
    "\n",
    "    rs = gain / loss\n",
    "    rsi = 100 - (100 / (1 + rs))\n",
    "    return rsi\n",
    "\n",
    "# Fetch S&P 500 monthly data for the last 20 years\n",
    "sp500 = yf.download('^GSPC', period=\"20y\", interval=\"1mo\")\n",
    "\n",
    "# Calculate RSI\n",
    "sp500['RSI'] = calculate_rsi(sp500, window=14)\n",
    "\n",
    "# Calculate the slope of the RSI for the last 5 months in each row\n",
    "N = 5  # Number of months to calculate the slope\n",
    "slopes = []  # List to store slope values\n",
    "\n",
    "for i in range(len(sp500)):\n",
    "    if i < N - 1:  # Not enough data to calculate the slope\n",
    "        slopes.append(np.nan)\n",
    "        continue\n",
    "    \n",
    "    # Linear regression over the last N RSI values\n",
    "    y = sp500['RSI'].iloc[i-N+1:i+1].values\n",
    "    x = np.arange(N)\n",
    "    slope, intercept, r_value, p_value, std_err = linregress(x, y)\n",
    "    slopes.append(slope)\n",
    "\n",
    "# Add slopes to the DataFrame\n",
    "sp500['RSI_Slope'] = slopes\n",
    "\n",
    "# Drop rows with NaN values (the first few rows without enough data for RSI or slope calculation)\n",
    "sp500.dropna(inplace=True)\n",
    "\n",
    "# Save to CSV\n",
    "sp500.to_csv('sp500_monthly_rsi_slope.csv')\n",
    "\n",
    "print(\"Monthly RSI slope for the S&P 500 over the last 20 years saved to sp500_monthly_rsi_slope.csv.\")\n"
   ]
  },
  {
   "cell_type": "code",
   "execution_count": null,
   "id": "33c1e95d-416b-45e9-b98d-12225329316c",
   "metadata": {},
   "outputs": [],
   "source": []
  }
 ],
 "metadata": {
  "kernelspec": {
   "display_name": "Python 3 (ipykernel)",
   "language": "python",
   "name": "python3"
  },
  "language_info": {
   "codemirror_mode": {
    "name": "ipython",
    "version": 3
   },
   "file_extension": ".py",
   "mimetype": "text/x-python",
   "name": "python",
   "nbconvert_exporter": "python",
   "pygments_lexer": "ipython3",
   "version": "3.11.5"
  }
 },
 "nbformat": 4,
 "nbformat_minor": 5
}
